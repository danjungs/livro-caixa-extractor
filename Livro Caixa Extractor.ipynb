{
 "cells": [
  {
   "cell_type": "markdown",
   "metadata": {
    "id": "GVYxLuPRms03"
   },
   "source": [
    "# 📆 Extrator de Consultas - Livro Caixa\n",
    "\n",
    "Esse Notebook tem como função extrair eventos do Google Calendar e salvá-los em um livro caixa em formato de arquivo Excel.\n",
    "\n",
    "Nesse projeto é usado o Google Calendar API para extrair do calendário eventos com o nome dos pacientes, esses eventos são tratados e agrupados por recorrência e mês, e são exportados para o livro caixa.\n",
    "\n",
    "\n",
    "A ideia desse projeto é facilitar a vida do excelente psicólogo [Jean Ghissoni](https://psicologojeanghissoni.negocio.site).\n",
    "\n",
    "\n",
    "## Primeiros Passos\n",
    "\n",
    "Para rodar o script basta rodar linha a linha desse notebook, excecutando em ordem cada etapa do código.\n",
    "\n",
    "## Tabela de conteúdos\n",
    "1. [Configuração de ambiente](#setup)<br>\n",
    "    1.1 [Instalando o Cliente Python do Google API](#setup1)<br>\n",
    "    1.2 [Importando bibliotecas e métodos usandos no notebook](#setup2)<br>\n",
    "    1.3 [Iniciando variáveis](#setup3)<br>\n",
    "2. [Autenticando com a API do Google](#auth)<br>\n",
    "    2.1 [Gerando o arquivo client_secrets.json](#auth1)<br>\n",
    "    2.2 [Iniciando o Cliente do Google e Autorizando conta Google](#auth2)<br>\n",
    "3. [Carregando e formatando os dados](#load)<br>\n",
    "    3.1 [Função de limpeza de Consulta](#load1)<br>\n",
    "    3.2 [Chamando o serviço que retorna os eventos](#load2)<br>\n",
    "    3.3 [Agrupando as consultas dos pacientes por mês](#load3)<br>\n",
    "4. [Gerando o arquivo de Excel](#save)<br>\n"
   ]
  },
  {
   "cell_type": "markdown",
   "metadata": {
    "id": "tXgemvVErxry"
   },
   "source": [
    "## <a id=\"setup\"></a>  1. Configuração de ambiente\n"
   ]
  },
  {
   "cell_type": "markdown",
   "metadata": {
    "id": "QxR-e2s3s-cm"
   },
   "source": [
    "### <a id=\"setup1\"></a>  1.1 Instalando o Cliente Python do Google API\n",
    "\n",
    "https://github.com/googleapis/google-api-python-client\n"
   ]
  },
  {
   "cell_type": "code",
   "execution_count": null,
   "metadata": {
    "id": "mv4ayGrqrxWC"
   },
   "outputs": [],
   "source": [
    "!pip install --upgrade google-api-python-client oauth2client"
   ]
  },
  {
   "cell_type": "markdown",
   "metadata": {
    "id": "p-qzqYl9sI2X"
   },
   "source": [
    "### <a id=\"setup2\"></a> 1.2 Importando bibliotecas e métodos usandos no notebook"
   ]
  },
  {
   "cell_type": "code",
   "execution_count": null,
   "metadata": {
    "executionInfo": {
     "elapsed": 242,
     "status": "ok",
     "timestamp": 1674256209536,
     "user": {
      "displayName": "Daniel Jungstedt",
      "userId": "03604001755923473018"
     },
     "user_tz": 180
    },
    "id": "siycD3JmtTPc"
   },
   "outputs": [],
   "source": [
    "import pandas as pd\n",
    "import os\n",
    "from dateutil import parser\n",
    "from datetime import datetime\n",
    "from googleapiclient import sample_tools"
   ]
  },
  {
   "cell_type": "markdown",
   "metadata": {},
   "source": [
    "### <a id=\"setup3\"></a> 1.3 Iniciando variáveis"
   ]
  },
  {
   "cell_type": "code",
   "execution_count": null,
   "metadata": {},
   "outputs": [],
   "source": [
    "tempo_limite = datetime(2023, 4, 30).isoformat() + 'Z'\n",
    "tempo_inicio = datetime(2023, 2, 1).isoformat() + 'Z'\n",
    "\n",
    "lista_mes = ['Janeiro', 'Fevereiro', 'Março', 'Abril', 'Maio', 'Junho', 'Julho', 'Agosto', 'Setembro', 'Outubro', 'Novembro', 'Dezembro']"
   ]
  },
  {
   "cell_type": "markdown",
   "metadata": {
    "id": "rlYB8-4ftz62"
   },
   "source": [
    "## <a id=\"auth\"></a> 2. Autenticando com a API do Google\n"
   ]
  },
  {
   "cell_type": "markdown",
   "metadata": {},
   "source": [
    "### <a id=\"auth1\"></a> 2.1 Gerando o arquivo client_secrets.json\n",
    "\n",
    "A biblioteca de cliente de APIs do Google para Python usa o arquivo **client_secrets.json** para armazenar client_id, client_secret e outros parâmetros OAuth 2.0. Dessa forma precisamos dele para conseguirmos nos autenticar com a API do Google.\n",
    "\n",
    "Consulte [Criando credenciais de autorização](https://developers.google.com/identity/protocols/oauth2/web-server#creatingcred) para saber como obter um arquivo client_secrets.json.\n",
    "\n",
    "Uma vez gerando o client_secrets.json, é necessário adicionarmos o mesmo uma pasta antes da pasta onde se localiza este notebook."
   ]
  },
  {
   "cell_type": "markdown",
   "metadata": {
    "id": "s1WEYOrftz63"
   },
   "source": [
    "### <a id=\"auth2\"></a> 2.2 Iniciando o Cliente do Google e Autorizando conta Google\n",
    "\n",
    "A função *sample_tools.init* ([Documentação](https://googleapis.github.io/google-api-python-client/docs/epy/googleapiclient.sample_tools-module.html)) é usada para inicializar o client do google. Ela usa Oauth2 Flow, com isso, você é redirecionado e precisa se autenticar (pelo menos na primeira vez que executar isso) no site do Google.\n",
    "\n",
    "Uma vez autenticado, temos na variável **service** o cliente google com seus métodos disponíveis.\n",
    " "
   ]
  },
  {
   "cell_type": "code",
   "execution_count": null,
   "metadata": {
    "executionInfo": {
     "elapsed": 229,
     "status": "ok",
     "timestamp": 1674257957677,
     "user": {
      "displayName": "Daniel Jungstedt",
      "userId": "03604001755923473018"
     },
     "user_tz": 180
    },
    "id": "2ePmTCHYtz63"
   },
   "outputs": [],
   "source": [
    "print(os.path.abspath(''))\n",
    "\n",
    "service, flags = sample_tools.init(\n",
    "        [],\n",
    "        \"calendar\",\n",
    "        \"v3\",\n",
    "        __doc__,\n",
    "        os.path.abspath(''),\n",
    "        scope=\"https://www.googleapis.com/auth/calendar.readonly\",\n",
    "    )"
   ]
  },
  {
   "cell_type": "markdown",
   "metadata": {
    "id": "rlYB8-4ftz62"
   },
   "source": [
    "## <a id=\"load\"></a> 3. Autenticando com a API do Google\n"
   ]
  },
  {
   "cell_type": "markdown",
   "metadata": {
    "id": "c8JxU7oKtz63"
   },
   "source": [
    "### <a id=\"load1\"></a>3.1 Função de limpeza de Consulta\n",
    "\n",
    "Recebe um evento e retorna um dicionário com os seguintes campos:\n",
    "* paciente: Nome do Paciente da consulta\n",
    "* mes: O mês da consulta\n",
    "* descricao: A descrição da consulta\n"
   ]
  },
  {
   "cell_type": "code",
   "execution_count": null,
   "metadata": {
    "executionInfo": {
     "elapsed": 231,
     "status": "ok",
     "timestamp": 1674264402527,
     "user": {
      "displayName": "Daniel Jungstedt",
      "userId": "03604001755923473018"
     },
     "user_tz": 180
    },
    "id": "ATqQ4Qc0k22j"
   },
   "outputs": [],
   "source": [
    "def event_clear(event):\n",
    "    data = event.get('start', {}).get('dateTime', '')\n",
    "    month = lista_mes[parser.parse(data).month -1]\n",
    "    eventDict = { 'paciente': event.get('summary'), 'mes': month, 'descricao': event.get('description')  }\n",
    "    return eventDict"
   ]
  },
  {
   "cell_type": "markdown",
   "metadata": {},
   "source": [
    "### <a id=\"load2\"></a>3.2 Chamando o serviço que retorna os eventos"
   ]
  },
  {
   "cell_type": "code",
   "execution_count": null,
   "metadata": {
    "colab": {
     "base_uri": "https://localhost:8080/"
    },
    "executionInfo": {
     "elapsed": 386,
     "status": "ok",
     "timestamp": 1674264403861,
     "user": {
      "displayName": "Daniel Jungstedt",
      "userId": "03604001755923473018"
     },
     "user_tz": 180
    },
    "id": "u0-MV7-2ffX5",
    "outputId": "5f431b7b-6502-44c5-a7a3-9c6cd7f1b3d7"
   },
   "outputs": [],
   "source": [
    "page_token = None\n",
    "listaLimpaEventos = []\n",
    "while True:\n",
    "  events = service.events().list(calendarId='primary', pageToken=page_token, singleEvents=True, timeMax=tempo_limite, timeMin=tempo_inicio).execute()\n",
    "  for event in events['items']:\n",
    "    eventDict = event_clear(event)\n",
    "    listaLimpaEventos.append(eventDict)\n",
    "  page_token = events.get('nextPageToken')\n",
    "  if not page_token:\n",
    "    break"
   ]
  },
  {
   "cell_type": "markdown",
   "metadata": {},
   "source": [
    "### <a id=\"load3\"></a>3.3 Agrupando as consultas dos pacientes por mês"
   ]
  },
  {
   "cell_type": "code",
   "execution_count": null,
   "metadata": {},
   "outputs": [],
   "source": [
    "filtred_events = []\n",
    "for element in listaLimpaEventos:\n",
    "    if list(filter(lambda event: event['paciente'] == element.get('paciente') and event.get('mes') == element.get('mes'), filtred_events)):\n",
    "        continue\n",
    "    element_cnt = 0\n",
    "    for el in listaLimpaEventos:\n",
    "        if(element.get('paciente') == el.get('paciente') and element.get('mes') == el.get('mes') ):\n",
    "            element_cnt += 1\n",
    "    event_dict = dict(element)\n",
    "    event_dict['consultas'] = element_cnt\n",
    "    filtred_events.append(event_dict)"
   ]
  },
  {
   "cell_type": "markdown",
   "metadata": {
    "id": "ZvtmbzzBwiJR"
   },
   "source": [
    "## <a id=\"save\"></a>4 Gerando o arquivo de Excel\n",
    "\n",
    "https://developers.google.com/calendar/api/v3/reference/events/list"
   ]
  },
  {
   "cell_type": "code",
   "execution_count": null,
   "metadata": {
    "executionInfo": {
     "elapsed": 639,
     "status": "ok",
     "timestamp": 1674261964015,
     "user": {
      "displayName": "Daniel Jungstedt",
      "userId": "03604001755923473018"
     },
     "user_tz": 180
    },
    "id": "afT59TFjt9ao"
   },
   "outputs": [],
   "source": [
    "writer = pd.ExcelWriter('listaPacientes.xlsx', engine = 'openpyxl')\n",
    "\n",
    "for mes in lista_mes:\n",
    "    month_filter = list(filter(lambda evt: evt['mes'] == mes, filtred_events))\n",
    "    df_json = pd.DataFrame.from_dict(month_filter)\n",
    "    df_json.to_excel(writer, sheet_name = mes,index=False)\n",
    "writer.close()"
   ]
  }
 ],
 "metadata": {
  "colab": {
   "authorship_tag": "ABX9TyNMRImxqCuDQR2P9WfIToUH",
   "provenance": []
  },
  "kernelspec": {
   "display_name": "Python 3 (ipykernel)",
   "language": "python",
   "name": "python3"
  },
  "language_info": {
   "codemirror_mode": {
    "name": "ipython",
    "version": 3
   },
   "file_extension": ".py",
   "mimetype": "text/x-python",
   "name": "python",
   "nbconvert_exporter": "python",
   "pygments_lexer": "ipython3",
   "version": "3.9.13"
  }
 },
 "nbformat": 4,
 "nbformat_minor": 1
}
